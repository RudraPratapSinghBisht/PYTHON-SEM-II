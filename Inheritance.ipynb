{
  "nbformat": 4,
  "nbformat_minor": 0,
  "metadata": {
    "colab": {
      "provenance": [],
      "authorship_tag": "ABX9TyPWxXp6sEaX/+wx8+8NkESb",
      "include_colab_link": true
    },
    "kernelspec": {
      "name": "python3",
      "display_name": "Python 3"
    },
    "language_info": {
      "name": "python"
    }
  },
  "cells": [
    {
      "cell_type": "markdown",
      "metadata": {
        "id": "view-in-github",
        "colab_type": "text"
      },
      "source": [
        "<a href=\"https://colab.research.google.com/github/RudraPratapSinghBisht/PYTHON-SEM-II/blob/main/Inheritance.ipynb\" target=\"_parent\"><img src=\"https://colab.research.google.com/assets/colab-badge.svg\" alt=\"Open In Colab\"/></a>"
      ]
    },
    {
      "cell_type": "code",
      "execution_count": null,
      "metadata": {
        "colab": {
          "base_uri": "https://localhost:8080/",
          "height": 106
        },
        "id": "Kgwr9OlJ1dCZ",
        "outputId": "bc13878f-c1ba-4f1f-9b6e-1da35a87fb4a"
      },
      "outputs": [
        {
          "output_type": "error",
          "ename": "IndentationError",
          "evalue": "unindent does not match any outer indentation level (<tokenize>, line 7)",
          "traceback": [
            "\u001b[0;36m  File \u001b[0;32m\"<tokenize>\"\u001b[0;36m, line \u001b[0;32m7\u001b[0m\n\u001b[0;31m    self.i=id\u001b[0m\n\u001b[0m    ^\u001b[0m\n\u001b[0;31mIndentationError\u001b[0m\u001b[0;31m:\u001b[0m unindent does not match any outer indentation level\n"
          ]
        }
      ],
      "source": [
        "class Employee:\n",
        "    def __init__(self,name,id):\n",
        "        self.n=name\n",
        "        self.i=id\n",
        "    def display(self):\n",
        "        print(f\"the name of employee:P{self.n}has id:{self.i}\")\n",
        "  self.i=id\n",
        "  def display(self):\n",
        "    print(f\"the name of employee:P{self.n}has id:(self.i)\")\n",
        "    class Manager(Employee):\n",
        "      def show_details(self)\n",
        "      print(\"I an inside Manager Class\")\n",
        "      m1 = Manager(\"Rudra\",590016590)\n",
        "      m1.display()\n",
        "      m1.show_details()\n"
      ]
    },
    {
      "source": [
        "class Employee:\n",
        "    def __init__(self,name,id):\n",
        "        self.n=name\n",
        "        self.i=id\n",
        "    def display(self):\n",
        "        print(f\"the name of employee:P{self.n}has id:{self.i}\")\n",
        "\n",
        "class Manager(Employee):\n",
        "    def show_details(self):\n",
        "        print(\"I an inside Manager\")\n"
      ],
      "cell_type": "code",
      "metadata": {
        "id": "1ZJiEO3l47_4"
      },
      "execution_count": null,
      "outputs": []
    },
    {
      "cell_type": "code",
      "source": [
        "Class Manager(Employee)"
      ],
      "metadata": {
        "id": "V8X3bbj65jWW"
      },
      "execution_count": null,
      "outputs": []
    },
    {
      "cell_type": "code",
      "source": [
        "class ParentClass:\n",
        "    parent_attribute = \"Parent Data\"\n",
        "\n",
        "class ChildClass(ParentClass):\n",
        "    child_attribute = \"Child Specific Data\"\n",
        "\n",
        "# Example usage:\n",
        "parent_obj = ParentClass()\n",
        "print(f\"Parent attribute: {parent_obj.parent_attribute}\")\n",
        "\n",
        "print(\"-\" * 20)\n",
        "\n",
        "child_obj = ChildClass()\n",
        "print(f\"Parent attribute from child: {child_obj.parent_attribute}\")\n",
        "print(f\"Child attribute: {child_obj.child_attribute}\")"
      ],
      "metadata": {
        "colab": {
          "base_uri": "https://localhost:8080/"
        },
        "id": "Onytqoeg8Gin",
        "outputId": "cfe79ca9-c731-4267-e3e7-75b79d62b49a"
      },
      "execution_count": null,
      "outputs": [
        {
          "output_type": "stream",
          "name": "stdout",
          "text": [
            "Parent attribute: Parent Data\n",
            "--------------------\n",
            "Parent attribute from child: Parent Data\n",
            "Child attribute: Child Specific Data\n"
          ]
        }
      ]
    },
    {
      "cell_type": "code",
      "source": [
        "class Animal:\n",
        "    def eat(self):\n",
        "        print(\"I eat anything\")\n",
        "class dog(Animal):\n",
        "    pass\n",
        "AN = Animal()\n",
        "AN.eat()\n",
        "class Animal:\n",
        "    def eat(self):\n",
        "        print(\"I eat anything\")\n",
        "class dog(Animal):\n",
        "    pass\n",
        "AN = Animal()\n",
        "AN.eat()\n",
        "D = dog()\n",
        "D.eat()\n",
        "class dog(Animal):\n",
        "    pass\n",
        "AN = Animal()\n",
        "AN.eat()\n",
        "D = dog()\n",
        "D.eat()\n",
        "AN.eat()\n",
        "D = dog()\n",
        "D.eat()"
      ],
      "metadata": {
        "colab": {
          "base_uri": "https://localhost:8080/"
        },
        "id": "UdFdLugjiLu6",
        "outputId": "048b226b-5baf-460c-b95b-2b0a2d5ea277"
      },
      "execution_count": 4,
      "outputs": [
        {
          "output_type": "stream",
          "name": "stdout",
          "text": [
            "I eat anything\n",
            "I eat anything\n",
            "I eat anything\n",
            "I eat anything\n",
            "I eat anything\n",
            "I eat anything\n",
            "I eat anything\n"
          ]
        }
      ]
    },
    {
      "cell_type": "code",
      "source": [
        "#Multiple Inheritance\n",
        "class person:\n",
        "  name = \"Rudra\"\n",
        "  def__init__(self,name):\n",
        "    self.name = name\n",
        "  def property(self):\n",
        "    print(\"my property is worth 1 cr\")\n",
        "class Employee(person):\n",
        "    def dress_code(self):\n",
        "        print(\"I don't Care!!\")\n",
        "    def dress_code(self):\n",
        "\n",
        "class HR(person,Employee):\n",
        "     def salary(self):\n",
        "      print(\"the salary is negotiable\")\n",
        "H1 = HR()\n",
        "H1.property()\n",
        "H1.dress_code()\n",
        "H1.salary()\n",
        "      H1.property()\n",
        "      H1.dress_code()\n",
        "      H1.salary()"
      ],
      "metadata": {
        "colab": {
          "base_uri": "https://localhost:8080/",
          "height": 106
        },
        "id": "iHcZzsTSis41",
        "outputId": "80d0d389-e387-40e6-bbcd-5433284f6e48"
      },
      "execution_count": 10,
      "outputs": [
        {
          "output_type": "error",
          "ename": "IndentationError",
          "evalue": "expected an indented block after function definition on line 9 (<ipython-input-10-96a212bd7252>, line 11)",
          "traceback": [
            "\u001b[0;36m  File \u001b[0;32m\"<ipython-input-10-96a212bd7252>\"\u001b[0;36m, line \u001b[0;32m11\u001b[0m\n\u001b[0;31m    class HR(person,Employee):\u001b[0m\n\u001b[0m                              ^\u001b[0m\n\u001b[0;31mIndentationError\u001b[0m\u001b[0;31m:\u001b[0m expected an indented block after function definition on line 9\n"
          ]
        }
      ]
    },
    {
      "cell_type": "code",
      "source": [
        "class person:\n",
        "  name = \"Rudra\"\n",
        "  def property(self):\n",
        "    print(\"my property is worth 1 cr\")\n",
        "class Employee(person):\n",
        "    def dress_code(self):\n",
        "        print(\"I don't Care!!\")\n",
        "    def dress_code(self):\n",
        "        print(\"My dress code is formal\")\n",
        "\n",
        "class HR(Employee):\n",
        "    def salary(self):\n",
        "      print(\"the salary is negotiable\")\n",
        "H1 = HR()\n",
        "H1.property()\n",
        "H1.dress_code()\n",
        "H1.salary()\n"
      ],
      "metadata": {
        "colab": {
          "base_uri": "https://localhost:8080/"
        },
        "id": "Cpm8s_9ol1Dy",
        "outputId": "e01576f1-9359-4d3a-ce5b-afba8157da2e"
      },
      "execution_count": 13,
      "outputs": [
        {
          "output_type": "stream",
          "name": "stdout",
          "text": [
            "my property is worth 1 cr\n",
            "My dress code is formal\n",
            "the salary is negotiable\n"
          ]
        }
      ]
    },
    {
      "cell_type": "code",
      "source": [
        "#Polymorplism\n",
        "a = 2\n",
        "b = 3\n",
        "c = a+b\n",
        "print(c)\n",
        "S1 = \"Python\"\n",
        "S2 = \"Programming\"\n",
        "S3 = S1+S2\n",
        "print(S3)\n",
        "len(S1)\n",
        "len([\"Welcome,\"\"Python\"])\n",
        "len({\"Name\" : \"Rudra\", \"Sapid\": 590016590})"
      ],
      "metadata": {
        "colab": {
          "base_uri": "https://localhost:8080/"
        },
        "id": "Jd3EkqyhmKDV",
        "outputId": "9cf0e509-805e-45b3-fe1c-faeee8b04b95"
      },
      "execution_count": 19,
      "outputs": [
        {
          "output_type": "stream",
          "name": "stdout",
          "text": [
            "5\n",
            "PythonProgramming\n"
          ]
        },
        {
          "output_type": "execute_result",
          "data": {
            "text/plain": [
              "2"
            ]
          },
          "metadata": {},
          "execution_count": 19
        }
      ]
    }
  ]
}