{
  "nbformat": 4,
  "nbformat_minor": 0,
  "metadata": {
    "colab": {
      "provenance": [],
      "authorship_tag": "ABX9TyNJIvYSquqQXYMNZB6CT/dn",
      "include_colab_link": true
    },
    "kernelspec": {
      "name": "python3",
      "display_name": "Python 3"
    },
    "language_info": {
      "name": "python"
    }
  },
  "cells": [
    {
      "cell_type": "markdown",
      "metadata": {
        "id": "view-in-github",
        "colab_type": "text"
      },
      "source": [
        "<a href=\"https://colab.research.google.com/github/RudraPratapSinghBisht/PYTHON-SEM-II/blob/main/Self1.ipynb\" target=\"_parent\"><img src=\"https://colab.research.google.com/assets/colab-badge.svg\" alt=\"Open In Colab\"/></a>"
      ]
    },
    {
      "cell_type": "code",
      "execution_count": 4,
      "metadata": {
        "colab": {
          "base_uri": "https://localhost:8080/"
        },
        "id": "D0M5di5VPtZw",
        "outputId": "889ec8a3-d264-4aae-a99b-bca2c68d628e"
      },
      "outputs": [
        {
          "output_type": "stream",
          "name": "stdout",
          "text": [
            "369\n",
            "rudra\n"
          ]
        }
      ],
      "source": [
        "print(335+34)\n",
        "print(\"rudra\")"
      ]
    },
    {
      "cell_type": "code",
      "source": [
        "name = \"Rudra\"\n",
        "age = 23\n",
        "prime = 16\n",
        "print(name)\n",
        "print(\"name\")\n",
        "print(age)\n",
        "print(\"My Name is \",name)\n",
        "print(prime)"
      ],
      "metadata": {
        "colab": {
          "base_uri": "https://localhost:8080/"
        },
        "id": "dvA0FW4Yp69y",
        "outputId": "15a48316-c012-4b9a-ac34-93a34763998e"
      },
      "execution_count": 10,
      "outputs": [
        {
          "output_type": "stream",
          "name": "stdout",
          "text": [
            "Rudra\n",
            "name\n",
            "23\n",
            "My Name is  Rudra\n",
            "16\n"
          ]
        }
      ]
    },
    {
      "cell_type": "code",
      "source": [
        "age=14\n",
        "age2=age\n",
        "print(age2)"
      ],
      "metadata": {
        "colab": {
          "base_uri": "https://localhost:8080/"
        },
        "id": "m_AVzCSCr3QA",
        "outputId": "34773237-6b82-4d49-efee-c1a8c850801f"
      },
      "execution_count": 11,
      "outputs": [
        {
          "output_type": "stream",
          "name": "stdout",
          "text": [
            "14\n"
          ]
        }
      ]
    },
    {
      "cell_type": "code",
      "source": [
        "name = \"Rudra\"\n",
        "age = 23\n",
        "prime = 16.25\n",
        "print(type(name))\n",
        "print(type(age))\n",
        "print(type(prime))\n",
        "print(prime)\n",
        ""
      ],
      "metadata": {
        "colab": {
          "base_uri": "https://localhost:8080/"
        },
        "id": "2rNmN_k7r_sV",
        "outputId": "5543ca86-7f79-4a38-eb48-070b5ddcc682"
      },
      "execution_count": 13,
      "outputs": [
        {
          "output_type": "stream",
          "name": "stdout",
          "text": [
            "<class 'str'>\n",
            "<class 'int'>\n",
            "<class 'float'>\n",
            "16.25\n"
          ]
        }
      ]
    },
    {
      "cell_type": "code",
      "source": [
        "name1 = 'rudra'\n",
        "name2 = \"rudra\"\n",
        "name3 = '''rudra'''\n",
        "print(name1)\n",
        "print(name2)\n",
        "print(name3)"
      ],
      "metadata": {
        "colab": {
          "base_uri": "https://localhost:8080/"
        },
        "id": "hALWwaBktUsx",
        "outputId": "fca8a7d5-936a-4c3f-d1ea-81a6af17b1c7"
      },
      "execution_count": 14,
      "outputs": [
        {
          "output_type": "stream",
          "name": "stdout",
          "text": [
            "rudra\n",
            "rudra\n",
            "rudra\n"
          ]
        }
      ]
    },
    {
      "cell_type": "code",
      "source": [
        "age = 34\n",
        "old = False\n",
        "a = None\n",
        "print(type(age))\n",
        "print(type(old))\n",
        "print(type(a))\n",
        "print(\"2 is my Favourite\")\n",
        "print(89)\n",
        "print(87-23)"
      ],
      "metadata": {
        "colab": {
          "base_uri": "https://localhost:8080/"
        },
        "id": "fmz1G4Q3tm3q",
        "outputId": "be7b8a2c-ac1e-4abf-c671-37d73d72c5c8"
      },
      "execution_count": 17,
      "outputs": [
        {
          "output_type": "stream",
          "name": "stdout",
          "text": [
            "<class 'int'>\n",
            "<class 'bool'>\n",
            "<class 'NoneType'>\n",
            "2 is my Favourite\n",
            "89\n",
            "64\n"
          ]
        }
      ]
    },
    {
      "cell_type": "code",
      "source": [
        "a = 23\n",
        "b = 5\n",
        "sum = a+b\n",
        "max = a-b\n",
        "print(sum)\n",
        "print(28+5)\n",
        "print(max)\n"
      ],
      "metadata": {
        "colab": {
          "base_uri": "https://localhost:8080/"
        },
        "id": "dwcORjTnuWRG",
        "outputId": "8b9601ec-1418-4a4d-dad4-f2f85bdc00b0"
      },
      "execution_count": 20,
      "outputs": [
        {
          "output_type": "stream",
          "name": "stdout",
          "text": [
            "28\n",
            "33\n",
            "18\n"
          ]
        }
      ]
    },
    {
      "cell_type": "code",
      "source": [
        "#arithemetic operators\n",
        "a = 4\n",
        "b = 43\n",
        "print(a-b)\n",
        "print(a+b)\n",
        "print(a*b)\n",
        "print(a/b)\n",
        "print(a//b)\n",
        "print(a%b)#remaider\n",
        "print(a**b)#a^b\n"
      ],
      "metadata": {
        "colab": {
          "base_uri": "https://localhost:8080/"
        },
        "id": "wiz8u-d2vDqQ",
        "outputId": "778e22b0-31be-4324-f1b7-6fc3abe3087b"
      },
      "execution_count": 22,
      "outputs": [
        {
          "output_type": "stream",
          "name": "stdout",
          "text": [
            "-39\n",
            "47\n",
            "172\n",
            "0.09302325581395349\n",
            "0\n",
            "4\n",
            "77371252455336267181195264\n"
          ]
        }
      ]
    },
    {
      "cell_type": "code",
      "source": [
        "#relation/comparison operators\n",
        "a = 50\n",
        "b = 13\n",
        "print(a==b)\n",
        "print(a !=b)\n",
        "print(a>=b)\n",
        "print(a<=b)\n"
      ],
      "metadata": {
        "colab": {
          "base_uri": "https://localhost:8080/"
        },
        "id": "hn0nMvpxwLQI",
        "outputId": "699704e2-a9f0-4efb-c158-ffd737b11b9e"
      },
      "execution_count": 24,
      "outputs": [
        {
          "output_type": "stream",
          "name": "stdout",
          "text": [
            "False\n",
            "True\n",
            "True\n",
            "False\n"
          ]
        }
      ]
    },
    {
      "cell_type": "code",
      "source": [
        "#assignment operators\n",
        "num = 10\n",
        "num = num + 10\n",
        "num += 10   # same meaning as above\n",
        "print(\"num\",num)\n",
        "num *= 5\n",
        "num /= 2\n",
        "print(num)\n"
      ],
      "metadata": {
        "colab": {
          "base_uri": "https://localhost:8080/"
        },
        "id": "ez9-Xy8qx27h",
        "outputId": "a0e1212e-6e58-4be8-894c-d3be5d3dac23"
      },
      "execution_count": 27,
      "outputs": [
        {
          "output_type": "stream",
          "name": "stdout",
          "text": [
            "num 30\n",
            "75.0\n"
          ]
        }
      ]
    },
    {
      "cell_type": "code",
      "source": [
        "#logical operators\n",
        "a =  50\n",
        "b = 56\n",
        "print(not False)\n",
        "print(not True)\n",
        "print(not(a>b))\n",
        "val1 = True\n",
        "val2 = True\n",
        "print(val1 and val2)\n",
        "print(val1 or val2)\n",
        "val3 = True\n",
        "val4 = False\n",
        "print(val3 and val4)\n",
        "print(val3 or val4)\n",
        "print(a==b) or (a>b)"
      ],
      "metadata": {
        "colab": {
          "base_uri": "https://localhost:8080/"
        },
        "id": "aZIE2HbdzAFz",
        "outputId": "3d44ef1b-ac3d-4f02-c5a3-c709c3ea8a28"
      },
      "execution_count": 34,
      "outputs": [
        {
          "output_type": "stream",
          "name": "stdout",
          "text": [
            "True\n",
            "False\n",
            "True\n",
            "True\n",
            "True\n",
            "False\n",
            "True\n",
            "False\n"
          ]
        },
        {
          "output_type": "execute_result",
          "data": {
            "text/plain": [
              "False"
            ]
          },
          "metadata": {},
          "execution_count": 34
        }
      ]
    },
    {
      "cell_type": "code",
      "source": [
        "#type conversion\n",
        "a = 2\n",
        "b = 4.234\n",
        "sum = a + b\n",
        "print(sum)\n",
        "a = float(\"34\")\n",
        "print(type(a))\n",
        "c = float(\"31\")\n",
        "d = float(\"24\")\n",
        "print(c+d)\n",
        "\n"
      ],
      "metadata": {
        "colab": {
          "base_uri": "https://localhost:8080/"
        },
        "id": "bIo1sblg0FoZ",
        "outputId": "b1798f65-c766-4a9a-978b-efda5c3d9242"
      },
      "execution_count": 38,
      "outputs": [
        {
          "output_type": "stream",
          "name": "stdout",
          "text": [
            "6.234\n",
            "<class 'float'>\n",
            "55.0\n"
          ]
        }
      ]
    },
    {
      "cell_type": "code",
      "source": [
        "#inputs\n",
        "input(\"enter your name \")\n",
        "\n",
        "\n"
      ],
      "metadata": {
        "colab": {
          "base_uri": "https://localhost:8080/",
          "height": 53
        },
        "id": "dFp51AUX11Mq",
        "outputId": "39730330-664b-4741-f702-daea17d11681"
      },
      "execution_count": 56,
      "outputs": [
        {
          "name": "stdout",
          "output_type": "stream",
          "text": [
            "enter your name rudra\n"
          ]
        },
        {
          "output_type": "execute_result",
          "data": {
            "text/plain": [
              "'rudra'"
            ],
            "application/vnd.google.colaboratory.intrinsic+json": {
              "type": "string"
            }
          },
          "metadata": {},
          "execution_count": 56
        }
      ]
    },
    {
      "cell_type": "code",
      "source": [
        "side = float(input(\"enter square side \"))\n"
      ],
      "metadata": {
        "colab": {
          "base_uri": "https://localhost:8080/"
        },
        "id": "T1UFOcoI-9F-",
        "outputId": "65e54970-7ec0-42fb-f42f-a1d15cac997f"
      },
      "execution_count": 78,
      "outputs": [
        {
          "name": "stdout",
          "output_type": "stream",
          "text": [
            "enter square side 4\n"
          ]
        }
      ]
    }
  ]
}